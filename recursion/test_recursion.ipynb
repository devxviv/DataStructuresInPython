{
 "cells": [
  {
   "cell_type": "markdown",
   "metadata": {},
   "source": [
    "# Recursion"
   ]
  },
  {
   "cell_type": "markdown",
   "metadata": {},
   "source": [
    "### Approach 1"
   ]
  },
  {
   "cell_type": "code",
   "execution_count": 10,
   "metadata": {},
   "outputs": [
    {
     "data": {
      "text/plain": [
       "15"
      ]
     },
     "execution_count": 10,
     "metadata": {},
     "output_type": "execute_result"
    }
   ],
   "source": [
    "# Sum of n inputs\n",
    "# n = 0\n",
    "Sum = 0\n",
    "def rec(num, n = 0):\n",
    "    global Sum\n",
    "    Sum += n\n",
    "    if n == num:\n",
    "        return Sum\n",
    "    else:\n",
    "        n =n+ 1\n",
    "        return rec(num, n)\n",
    "\n",
    "# Calling the function    \n",
    "rec(5)    "
   ]
  },
  {
   "cell_type": "markdown",
   "metadata": {},
   "source": [
    "### Approach 2"
   ]
  },
  {
   "cell_type": "code",
   "execution_count": 16,
   "metadata": {},
   "outputs": [
    {
     "data": {
      "text/plain": [
       "15"
      ]
     },
     "execution_count": 16,
     "metadata": {},
     "output_type": "execute_result"
    }
   ],
   "source": [
    "def rec(num, n=0, Sum=0):\n",
    "    Sum += n\n",
    "    if n == num:\n",
    "        return Sum\n",
    "    else:\n",
    "        n += 1\n",
    "        return rec(num, n, Sum)\n",
    "\n",
    "\n",
    "# Calling the function\n",
    "rec(5)"
   ]
  },
  {
   "cell_type": "markdown",
   "metadata": {},
   "source": [
    "### Approach 3"
   ]
  },
  {
   "cell_type": "code",
   "execution_count": 20,
   "metadata": {},
   "outputs": [
    {
     "data": {
      "text/plain": [
       "15"
      ]
     },
     "execution_count": 20,
     "metadata": {},
     "output_type": "execute_result"
    }
   ],
   "source": [
    "def rec(num, Sum=0):\n",
    "    if num == 0:\n",
    "        return Sum\n",
    "    else:\n",
    "        Sum += num\n",
    "        return rec(num=num-1, Sum)\n",
    "    \n",
    "# Calling the function\n",
    "rec(5)    "
   ]
  }
 ],
 "metadata": {
  "kernelspec": {
   "display_name": "Python 3",
   "language": "python",
   "name": "python3"
  },
  "language_info": {
   "codemirror_mode": {
    "name": "ipython",
    "version": 3
   },
   "file_extension": ".py",
   "mimetype": "text/x-python",
   "name": "python",
   "nbconvert_exporter": "python",
   "pygments_lexer": "ipython3",
   "version": "3.11.0"
  },
  "orig_nbformat": 4
 },
 "nbformat": 4,
 "nbformat_minor": 2
}
